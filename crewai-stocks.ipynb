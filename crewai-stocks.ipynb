{
 "cells": [
  {
   "cell_type": "code",
   "execution_count": null,
   "metadata": {},
   "outputs": [],
   "source": [
    "# Instalação\n",
    "# INSTALAÇÃO DAS LIBS\n",
    "!pip install yfinance==0.2.41\n",
    "!pip install crewai==0.28.8\n",
    "!pip install 'crewai[tools]'\n",
    "!pip install langchain==0.1.20\n",
    "!pip install langchain-openai==0.1.7\n",
    "!pip install langchain-community==0.0.38\n",
    "!pip install duckduckgo-search==5.3.0"
   ]
  },
  {
   "cell_type": "code",
   "execution_count": null,
   "metadata": {},
   "outputs": [],
   "source": [
    "# IMPORT DA LIBS DEFAULT\n",
    "import json\n",
    "import os\n",
    "from datetime import datetime\n",
    "\n",
    "from IPython.display import Markdown\n"
   ]
  },
  {
   "cell_type": "code",
   "execution_count": null,
   "metadata": {},
   "outputs": [],
   "source": [
    "# IMPORT DAS LIBS ADVANCE\n",
    "import yfinance as yf\n",
    "from crewai import Agent, Task, Crew, Process\n",
    "from langchain_openai import ChatOpenAI\n",
    "from langchain.tools import Tool\n",
    "from langchain_community.tools import DuckDuckGoSearchResults"
   ]
  },
  {
   "cell_type": "code",
   "execution_count": null,
   "metadata": {},
   "outputs": [],
   "source": [
    "# Criando Tool Finance Yahoo\n",
    "def fetch_stock_price(ticket):\n",
    "    stock = yf.download(ticket, start=\"2023-08-08\", end=\"2024-08-08\")\n",
    "    return stock\n",
    "\n",
    "yahoo_finance_tool = Tool(\n",
    "    name = \"Yahoo Finance Tool\",\n",
    "    description = \"Fetches stocks prices for {ticket} from the last year about a specific company from Yahoo Finance API\",\n",
    "    func = lambda ticket: fetch_stock_price(ticket)\n",
    ")\n"
   ]
  },
  {
   "cell_type": "code",
   "execution_count": null,
   "metadata": {},
   "outputs": [],
   "source": [
    "# IMPORTANDO OPENAI LLM - GPT\n",
    "#os.environ['OPENAI_API_KEY'] = \"\"\n",
    "\n",
    "llm = ChatOpenAI(model=\"gpt-3.5-turbo\")\n"
   ]
  },
  {
   "cell_type": "code",
   "execution_count": null,
   "metadata": {},
   "outputs": [],
   "source": [
    "stockPriceAnalyst = Agent(\n",
    "    role=\"Senior stock price Analyst\",\n",
    "    goal=\"Find the {ticket} stock price and analyses trends\",\n",
    "    backstory=\"\"\"You're highly experienced in analyzing the price of a specific stock and make predictions about its future price.\"\"\",\n",
    "    verbose=True,\n",
    "    llm=llm,\n",
    "    max_iter=5,\n",
    "    memory=True,\n",
    "    tools=[yahoo_finance_tool],\n",
    "    allow_delegation=False\n",
    ")\n"
   ]
  },
  {
   "cell_type": "code",
   "execution_count": null,
   "metadata": {},
   "outputs": [],
   "source": [
    "getStockPrice = Task(\n",
    "    description=\"Analyze the stock {ticket} price history and create a trend analyses of up, down or sideways\",\n",
    "    expected_output=\"\"\"Specify the current trend stock price - up, down or sideways.\n",
    "    eg. stock='APPL', price UP\"\"\",\n",
    "    agent=stockPriceAnalyst\n",
    ")\n"
   ]
  },
  {
   "cell_type": "code",
   "execution_count": null,
   "metadata": {},
   "outputs": [],
   "source": [
    "# IMPORTANDO A TOOL DE SEARCH\n",
    "search_tool = DuckDuckGoSearchResults(backend='news', num_results=10)"
   ]
  },
  {
   "cell_type": "code",
   "execution_count": null,
   "metadata": {},
   "outputs": [],
   "source": [
    "newsAnalyst = Agent(\n",
    "    role=\"Stock News Analyst\",\n",
    "    goal=\"\"\"Create a short summary of the market news related to the stock {ticket} company. Specify the current trend - up, down or sideways with the news context. For each request stock asset, specify a number between 0 and 100, where 0 is extreme fear and 100 is extreme greed.\"\"\",\n",
    "    backstory=\"\"\"You're highly experienced in analyzing the market trends and news and have tracked assets for more than 10 years.\n",
    "\n",
    "    You're also a master-level analyst in the traditional markets and have a deep understanding of human psychology.\n",
    "\n",
    "    You understand news, their titles and information, but you look at those with a healthy dose of skepticism. You also consider the source of the news articles.\"\"\",\n",
    "    verbose=True,\n",
    "    llm=llm,\n",
    "    max_iter=10,\n",
    "    memory=True,\n",
    "    tools=[search_tool],\n",
    "    allow_delegation=False\n",
    ")\n"
   ]
  },
  {
   "cell_type": "code",
   "execution_count": null,
   "metadata": {},
   "outputs": [],
   "source": [
    "get_news = Task(\n",
    "    description=f\"\"\"Take the stock and always include BTC to it (if not requested).\n",
    "    Use the search tool to search each one individually.\n",
    "    \n",
    "    The current date is {datetime.now()}.\n",
    "\n",
    "    Compose the results into a helpful report\"\"\",\n",
    "    expected_output=\"\"\"A summary of the overall market and one sentence summary for each requested asset.\n",
    "    Include a fear/greed score for each asset based on the news. Use format:\n",
    "    <STOCK ASSET>\n",
    "    <SUMMARY BASED ON NEWS>\n",
    "    <TREND PREDICTION>\n",
    "    <FEAR/GREED SCORE>\"\"\",\n",
    "    agent=newsAnalyst\n",
    ")\n"
   ]
  },
  {
   "cell_type": "code",
   "execution_count": null,
   "metadata": {},
   "outputs": [],
   "source": [
    "stockAnalystWrite = Agent(\n",
    "    role=\"Senior Stock Analyst Writer\",\n",
    "    goal=\"\"\"Analyze the trends price and news and write an insightful, compelling, and informative 3-paragraph long newsletter based on the stock report and price trend.\"\"\",\n",
    "    backstory=\"\"\"You're widely accepted as the best stock analyst in the market. You understand complex concepts and create compelling stories and narratives that resonate with wider audiences.\n",
    "\n",
    "    You understand macro factors and combine multiple theories – e.g., cycle theory and fundamental analyses.\n",
    "    You're able to hold multiple opinions when analyzing anything.\"\"\",\n",
    "    verbose=True,\n",
    "    llm=llm,\n",
    "    max_iter=5,\n",
    "    memory=True,\n",
    "    allow_delegation=True\n",
    ")"
   ]
  },
  {
   "cell_type": "code",
   "execution_count": null,
   "metadata": {},
   "outputs": [],
   "source": [
    "writeAnalyses = Task(\n",
    "    description=\"\"\"Use the stock price trend and the stock news report to create an analysis and write the newsletter about the {ticket} company.\n",
    "    Focus on the stock price trend, news and fear/greed score. What are the near future considerations?\n",
    "    Include the previous analyses of stock trend and news summary.\"\"\",\n",
    "    expected_output=\"\"\"An eloquent 3 paragraphs newsletter formatted as markdown in an easy readable manner. It should contain:\n",
    "\n",
    "    - 3 bullets executive summary\n",
    "    - Introduction – set the overall picture and spike up the interest\n",
    "    - Main part provides the meat of the analysis including the news summary and fear/greed scores\n",
    "    - Summary – key facts and concrete future trend prediction – up, down or sideways.\"\"\",\n",
    "    agent=stockAnalystWrite,\n",
    "    context=[getStockPrice, get_news]\n",
    ")\n"
   ]
  },
  {
   "cell_type": "code",
   "execution_count": null,
   "metadata": {},
   "outputs": [],
   "source": [
    "crew = Crew(\n",
    "    agents=[stockPriceAnalyst, newsAnalyst, stockAnalystWrite],\n",
    "    tasks=[getStockPrice, get_news, writeAnalyses],\n",
    "    verbose=2,\n",
    "    process=Process.hierarchical,\n",
    "    full_output=True,\n",
    "    share_crew=False,\n",
    "    manager_llm=llm,\n",
    "    max_iter=15\n",
    ")"
   ]
  },
  {
   "cell_type": "code",
   "execution_count": null,
   "metadata": {},
   "outputs": [],
   "source": [
    "results = crew.kickoff(inputs={'ticket': 'AAPL'})"
   ]
  },
  {
   "cell_type": "code",
   "execution_count": null,
   "metadata": {},
   "outputs": [],
   "source": [
    "Markdown(results['final_output'])"
   ]
  }
 ],
 "metadata": {
  "kernelspec": {
   "display_name": "Python 3",
   "language": "python",
   "name": "python3"
  },
  "language_info": {
   "codemirror_mode": {
    "name": "ipython",
    "version": 3
   },
   "file_extension": ".py",
   "mimetype": "text/x-python",
   "name": "python",
   "nbconvert_exporter": "python",
   "pygments_lexer": "ipython3",
   "version": "3.10.12"
  }
 },
 "nbformat": 4,
 "nbformat_minor": 2
}
